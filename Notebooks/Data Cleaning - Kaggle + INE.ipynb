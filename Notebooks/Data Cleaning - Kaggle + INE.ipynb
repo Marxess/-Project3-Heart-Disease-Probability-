{
 "cells": [
  {
   "cell_type": "code",
   "execution_count": 11,
   "metadata": {},
   "outputs": [
    {
     "name": "stdout",
     "output_type": "stream",
     "text": [
      "Downloading heart-failure-clinical-data.zip to /Users/mariana/-Project3-Heart-Disease-Probability-\r\n",
      "\r",
      "  0%|                                               | 0.00/3.97k [00:00<?, ?B/s]\r\n",
      "\r",
      "100%|██████████████████████████████████████| 3.97k/3.97k [00:00<00:00, 3.35MB/s]\r\n"
     ]
    }
   ],
   "source": [
    "!kaggle datasets download -d andrewmvd/heart-failure-clinical-data"
   ]
  },
  {
   "cell_type": "code",
   "execution_count": 12,
   "metadata": {},
   "outputs": [
    {
     "name": "stdout",
     "output_type": "stream",
     "text": [
      "x heart_failure_clinical_records_dataset.csv\r\n"
     ]
    }
   ],
   "source": [
    "!tar -xzvf heart-failure-clinical-data.zip"
   ]
  },
  {
   "cell_type": "code",
   "execution_count": 4,
   "metadata": {},
   "outputs": [],
   "source": [
    "import pandas as pd\n",
    "import os\n",
    "import numpy as np"
   ]
  },
  {
   "cell_type": "code",
   "execution_count": 13,
   "metadata": {
    "scrolled": true
   },
   "outputs": [
    {
     "name": "stdout",
     "output_type": "stream",
     "text": [
      "['Dataset - Kaggle .ipynb', 'heart_failure_clinical_records_dataset.csv', 'README.md', 'Heart_Disease_Prediction.csv', '.gitignore', '.ipynb_checkpoints', '.git', 'heart-disease-prediction.zip', 'heart-failure-clinical-data.zip']\n"
     ]
    }
   ],
   "source": [
    "print(os.listdir(os.getcwd()))"
   ]
  },
  {
   "cell_type": "markdown",
   "metadata": {},
   "source": [
    "## Kaggle Dataset"
   ]
  },
  {
   "cell_type": "code",
   "execution_count": 770,
   "metadata": {},
   "outputs": [],
   "source": [
    "df_original = pd.read_csv('heart_failure_clinical_records_dataset.csv',encoding='cp1252')\n",
    "df = df_original.copy()"
   ]
  },
  {
   "cell_type": "code",
   "execution_count": 771,
   "metadata": {
    "scrolled": false
   },
   "outputs": [
    {
     "data": {
      "text/html": [
       "<div>\n",
       "<style scoped>\n",
       "    .dataframe tbody tr th:only-of-type {\n",
       "        vertical-align: middle;\n",
       "    }\n",
       "\n",
       "    .dataframe tbody tr th {\n",
       "        vertical-align: top;\n",
       "    }\n",
       "\n",
       "    .dataframe thead th {\n",
       "        text-align: right;\n",
       "    }\n",
       "</style>\n",
       "<table border=\"1\" class=\"dataframe\">\n",
       "  <thead>\n",
       "    <tr style=\"text-align: right;\">\n",
       "      <th></th>\n",
       "      <th>age</th>\n",
       "      <th>anaemia</th>\n",
       "      <th>creatinine_phosphokinase</th>\n",
       "      <th>diabetes</th>\n",
       "      <th>ejection_fraction</th>\n",
       "      <th>high_blood_pressure</th>\n",
       "      <th>platelets</th>\n",
       "      <th>serum_creatinine</th>\n",
       "      <th>serum_sodium</th>\n",
       "      <th>sex</th>\n",
       "      <th>smoking</th>\n",
       "      <th>time</th>\n",
       "      <th>DEATH_EVENT</th>\n",
       "    </tr>\n",
       "  </thead>\n",
       "  <tbody>\n",
       "    <tr>\n",
       "      <th>0</th>\n",
       "      <td>75.0</td>\n",
       "      <td>0</td>\n",
       "      <td>582</td>\n",
       "      <td>0</td>\n",
       "      <td>20</td>\n",
       "      <td>1</td>\n",
       "      <td>265000.00</td>\n",
       "      <td>1.9</td>\n",
       "      <td>130</td>\n",
       "      <td>1</td>\n",
       "      <td>0</td>\n",
       "      <td>4</td>\n",
       "      <td>1</td>\n",
       "    </tr>\n",
       "    <tr>\n",
       "      <th>1</th>\n",
       "      <td>55.0</td>\n",
       "      <td>0</td>\n",
       "      <td>7861</td>\n",
       "      <td>0</td>\n",
       "      <td>38</td>\n",
       "      <td>0</td>\n",
       "      <td>263358.03</td>\n",
       "      <td>1.1</td>\n",
       "      <td>136</td>\n",
       "      <td>1</td>\n",
       "      <td>0</td>\n",
       "      <td>6</td>\n",
       "      <td>1</td>\n",
       "    </tr>\n",
       "    <tr>\n",
       "      <th>2</th>\n",
       "      <td>65.0</td>\n",
       "      <td>0</td>\n",
       "      <td>146</td>\n",
       "      <td>0</td>\n",
       "      <td>20</td>\n",
       "      <td>0</td>\n",
       "      <td>162000.00</td>\n",
       "      <td>1.3</td>\n",
       "      <td>129</td>\n",
       "      <td>1</td>\n",
       "      <td>1</td>\n",
       "      <td>7</td>\n",
       "      <td>1</td>\n",
       "    </tr>\n",
       "    <tr>\n",
       "      <th>3</th>\n",
       "      <td>50.0</td>\n",
       "      <td>1</td>\n",
       "      <td>111</td>\n",
       "      <td>0</td>\n",
       "      <td>20</td>\n",
       "      <td>0</td>\n",
       "      <td>210000.00</td>\n",
       "      <td>1.9</td>\n",
       "      <td>137</td>\n",
       "      <td>1</td>\n",
       "      <td>0</td>\n",
       "      <td>7</td>\n",
       "      <td>1</td>\n",
       "    </tr>\n",
       "    <tr>\n",
       "      <th>4</th>\n",
       "      <td>65.0</td>\n",
       "      <td>1</td>\n",
       "      <td>160</td>\n",
       "      <td>1</td>\n",
       "      <td>20</td>\n",
       "      <td>0</td>\n",
       "      <td>327000.00</td>\n",
       "      <td>2.7</td>\n",
       "      <td>116</td>\n",
       "      <td>0</td>\n",
       "      <td>0</td>\n",
       "      <td>8</td>\n",
       "      <td>1</td>\n",
       "    </tr>\n",
       "  </tbody>\n",
       "</table>\n",
       "</div>"
      ],
      "text/plain": [
       "    age  anaemia  creatinine_phosphokinase  diabetes  ejection_fraction  \\\n",
       "0  75.0        0                       582         0                 20   \n",
       "1  55.0        0                      7861         0                 38   \n",
       "2  65.0        0                       146         0                 20   \n",
       "3  50.0        1                       111         0                 20   \n",
       "4  65.0        1                       160         1                 20   \n",
       "\n",
       "   high_blood_pressure  platelets  serum_creatinine  serum_sodium  sex  \\\n",
       "0                    1  265000.00               1.9           130    1   \n",
       "1                    0  263358.03               1.1           136    1   \n",
       "2                    0  162000.00               1.3           129    1   \n",
       "3                    0  210000.00               1.9           137    1   \n",
       "4                    0  327000.00               2.7           116    0   \n",
       "\n",
       "   smoking  time  DEATH_EVENT  \n",
       "0        0     4            1  \n",
       "1        0     6            1  \n",
       "2        1     7            1  \n",
       "3        0     7            1  \n",
       "4        0     8            1  "
      ]
     },
     "execution_count": 771,
     "metadata": {},
     "output_type": "execute_result"
    }
   ],
   "source": [
    "df.head()"
   ]
  },
  {
   "cell_type": "code",
   "execution_count": 772,
   "metadata": {},
   "outputs": [
    {
     "data": {
      "text/plain": [
       "0    170\n",
       "1    129\n",
       "Name: anaemia, dtype: int64"
      ]
     },
     "execution_count": 772,
     "metadata": {},
     "output_type": "execute_result"
    }
   ],
   "source": [
    "df.anaemia.value_counts()"
   ]
  },
  {
   "cell_type": "code",
   "execution_count": 376,
   "metadata": {},
   "outputs": [],
   "source": [
    "df_ages = df.age.value_counts()"
   ]
  },
  {
   "cell_type": "code",
   "execution_count": 697,
   "metadata": {},
   "outputs": [
    {
     "data": {
      "text/plain": [
       "60 to 70     93\n",
       "50 to 60     82\n",
       "70 to 80     52\n",
       "40 to 50     47\n",
       "80 to 100    25\n",
       "Name: age, dtype: int64"
      ]
     },
     "execution_count": 697,
     "metadata": {},
     "output_type": "execute_result"
    }
   ],
   "source": [
    "age_by_decade = pd.cut(x=df_ages, bins=[50, 60, 70, 80, 100], labels=['50s', '60s', '70s', '70s+'])\n",
    "df_ages"
   ]
  },
  {
   "cell_type": "code",
   "execution_count": 374,
   "metadata": {},
   "outputs": [],
   "source": [
    "import numpy as np\n",
    "import seaborn as sns\n",
    "import matplotlib.pyplot as plt\n",
    "import re\n",
    "import pandas as pd"
   ]
  },
  {
   "cell_type": "code",
   "execution_count": 281,
   "metadata": {},
   "outputs": [
    {
     "name": "stdout",
     "output_type": "stream",
     "text": [
      "(2617, 1)\n",
      "0    object\n",
      "dtype: object\n"
     ]
    }
   ],
   "source": [
    "print(df.shape)\n",
    "print(df.dtypes)"
   ]
  },
  {
   "cell_type": "markdown",
   "metadata": {},
   "source": [
    "## API Data - INE"
   ]
  },
  {
   "cell_type": "code",
   "execution_count": 282,
   "metadata": {},
   "outputs": [],
   "source": [
    "import requests\n",
    "from bs4 import BeautifulSoup\n",
    "import pandas as pd\n",
    "import json\n",
    "import datetime"
   ]
  },
  {
   "cell_type": "code",
   "execution_count": 490,
   "metadata": {},
   "outputs": [],
   "source": [
    "url_plantilla = f'http://servicios.ine.es/wstempus/js/ES/DATOS_SERIE/{codigo}?nult={num_datos}'\n",
    "\n",
    "codigo = \"ECM351\"\n",
    "num_datos = 500\n",
    "\n",
    "url = url_plantilla.format(codigo=codigo,\n",
    "                           num_datos=num_datos)"
   ]
  },
  {
   "cell_type": "code",
   "execution_count": 491,
   "metadata": {},
   "outputs": [],
   "source": [
    "import requests\n",
    "respuesta = requests.get(url)"
   ]
  },
  {
   "cell_type": "code",
   "execution_count": 492,
   "metadata": {},
   "outputs": [
    {
     "name": "stdout",
     "output_type": "stream",
     "text": [
      "{\"COD\":\"ECM351\", \"Nombre\":\"I-XXII.Todas las causas. Ambos sexos. Todas las edades. Total Nacional. Personas. \", \"FK_Unidad\":3, \"FK_Escala\":1, \"Data\":[{\"Fecha\":315529200000, \"FK_TipoDato\":1, \"FK_Periodo\":28, \"Anyo\":1980, \"Valor\":289344.0, \"Secreto\":false}\n",
      ",{\"Fecha\":347151600000, \"FK_TipoDato\":1, \"FK_Periodo\":28, \"Anyo\":1981, \"Valor\":293386.0, \"Secreto\":false}\n",
      ",{\"Fecha\":378687600000, \"FK_TipoDato\":1, \"FK_Periodo\":28, \"Anyo\":1982, \"Valor\":286655.0, \"Secreto\":false}\n",
      ",{\"Fecha\":410223600000, \"FK_TipoDato\":1, \"FK_Periodo\":28, \"Anyo\":1983, \"Valor\":302569.0, \"Secreto\":false}\n",
      ",{\"Fecha\":441759600000, \"FK_TipoDato\":1, \"FK_Periodo\":28, \"Anyo\":1984, \"Valor\":299409.0, \"Secreto\":false}\n",
      ",{\"Fecha\":473382000000, \"FK_TipoDato\":1, \"FK_Periodo\":28, \"Anyo\":1985, \"Valor\":312532.0, \"Secreto\":false}\n",
      ",{\"Fecha\":504918000000, \"FK_TipoDato\":1, \"FK_Periodo\":28, \"Anyo\":1986, \"Valor\":310413.0, \"Secreto\":false}\n",
      ",{\"Fecha\":536454000000, \"FK_TipoDato\":1, \"FK_Periodo\":28, \"Anyo\":1987, \"Valor\":310073.0, \"Secreto\":false}\n",
      ",{\"Fecha\":567990000000, \"FK_TipoDato\":1, \"FK_Periodo\":28, \"Anyo\":1988, \"Valor\":319437.0, \"Secreto\":false}\n",
      ",{\"Fecha\":599612400000, \"FK_TipoDato\":1, \"FK_Periodo\":28, \"Anyo\":1989, \"Valor\":324796.0, \"Secreto\":false}\n",
      ",{\"Fecha\":631148400000, \"FK_TipoDato\":1, \"FK_Periodo\":28, \"Anyo\":1990, \"Valor\":333142.0, \"Secreto\":false}\n",
      ",{\"Fecha\":662684400000, \"FK_TipoDato\":1, \"FK_Periodo\":28, \"Anyo\":1991, \"Valor\":337691.0, \"Secreto\":false}\n",
      ",{\"Fecha\":694220400000, \"FK_TipoDato\":1, \"FK_Periodo\":28, \"Anyo\":1992, \"Valor\":331515.0, \"Secreto\":false}\n",
      ",{\"Fecha\":725842800000, \"FK_TipoDato\":1, \"FK_Periodo\":28, \"Anyo\":1993, \"Valor\":339661.0, \"Secreto\":false}\n",
      ",{\"Fecha\":757378800000, \"FK_TipoDato\":1, \"FK_Periodo\":28, \"Anyo\":1994, \"Valor\":338242.0, \"Secreto\":false}\n",
      ",{\"Fecha\":788914800000, \"FK_TipoDato\":1, \"FK_Periodo\":28, \"Anyo\":1995, \"Valor\":346227.0, \"Secreto\":false}\n",
      ",{\"Fecha\":820450800000, \"FK_TipoDato\":1, \"FK_Periodo\":28, \"Anyo\":1996, \"Valor\":351449.0, \"Secreto\":false}\n",
      ",{\"Fecha\":852073200000, \"FK_TipoDato\":1, \"FK_Periodo\":28, \"Anyo\":1997, \"Valor\":349521.0, \"Secreto\":false}\n",
      ",{\"Fecha\":883609200000, \"FK_TipoDato\":1, \"FK_Periodo\":28, \"Anyo\":1998, \"Valor\":360511.0, \"Secreto\":false}\n",
      ",{\"Fecha\":915145200000, \"FK_TipoDato\":1, \"FK_Periodo\":28, \"Anyo\":1999, \"Valor\":371102.0, \"Secreto\":false}\n",
      ",{\"Fecha\":946681200000, \"FK_TipoDato\":1, \"FK_Periodo\":28, \"Anyo\":2000, \"Valor\":360391.0, \"Secreto\":false}\n",
      ",{\"Fecha\":978303600000, \"FK_TipoDato\":1, \"FK_Periodo\":28, \"Anyo\":2001, \"Valor\":360131.0, \"Secreto\":false}\n",
      ",{\"Fecha\":1009839600000, \"FK_TipoDato\":1, \"FK_Periodo\":28, \"Anyo\":2002, \"Valor\":368618.0, \"Secreto\":false}\n",
      ",{\"Fecha\":1041375600000, \"FK_TipoDato\":1, \"FK_Periodo\":28, \"Anyo\":2003, \"Valor\":384828.0, \"Secreto\":false}\n",
      ",{\"Fecha\":1072911600000, \"FK_TipoDato\":1, \"FK_Periodo\":28, \"Anyo\":2004, \"Valor\":371934.0, \"Secreto\":false}\n",
      ",{\"Fecha\":1104534000000, \"FK_TipoDato\":1, \"FK_Periodo\":28, \"Anyo\":2005, \"Valor\":387355.0, \"Secreto\":false}\n",
      ",{\"Fecha\":1136070000000, \"FK_TipoDato\":1, \"FK_Periodo\":28, \"Anyo\":2006, \"Valor\":371478.0, \"Secreto\":false}\n",
      ",{\"Fecha\":1167606000000, \"FK_TipoDato\":1, \"FK_Periodo\":28, \"Anyo\":2007, \"Valor\":385361.0, \"Secreto\":false}\n",
      ",{\"Fecha\":1199142000000, \"FK_TipoDato\":1, \"FK_Periodo\":28, \"Anyo\":2008, \"Valor\":386324.0, \"Secreto\":false}\n",
      ",{\"Fecha\":1230764400000, \"FK_TipoDato\":1, \"FK_Periodo\":28, \"Anyo\":2009, \"Valor\":384933.0, \"Secreto\":false}\n",
      ",{\"Fecha\":1262300400000, \"FK_TipoDato\":1, \"FK_Periodo\":28, \"Anyo\":2010, \"Valor\":382047.0, \"Secreto\":false}\n",
      ",{\"Fecha\":1293836400000, \"FK_TipoDato\":1, \"FK_Periodo\":28, \"Anyo\":2011, \"Valor\":387911.0, \"Secreto\":false}\n",
      ",{\"Fecha\":1325372400000, \"FK_TipoDato\":1, \"FK_Periodo\":28, \"Anyo\":2012, \"Valor\":402950.0, \"Secreto\":false}\n",
      ",{\"Fecha\":1356994800000, \"FK_TipoDato\":1, \"FK_Periodo\":28, \"Anyo\":2013, \"Valor\":390419.0, \"Secreto\":false}\n",
      ",{\"Fecha\":1388530800000, \"FK_TipoDato\":1, \"FK_Periodo\":28, \"Anyo\":2014, \"Valor\":395830.0, \"Secreto\":false}\n",
      ",{\"Fecha\":1420066800000, \"FK_TipoDato\":1, \"FK_Periodo\":28, \"Anyo\":2015, \"Valor\":422568.0, \"Secreto\":false}\n",
      ",{\"Fecha\":1451602800000, \"FK_TipoDato\":1, \"FK_Periodo\":28, \"Anyo\":2016, \"Valor\":410611.0, \"Secreto\":false}\n",
      ",{\"Fecha\":1483225200000, \"FK_TipoDato\":1, \"FK_Periodo\":28, \"Anyo\":2017, \"Valor\":424523.0, \"Secreto\":false}\n",
      ",{\"Fecha\":1514761200000, \"FK_TipoDato\":1, \"FK_Periodo\":28, \"Anyo\":2018, \"Valor\":427721.0, \"Secreto\":false}\n",
      "]\n",
      "}\n",
      "\n"
     ]
    }
   ],
   "source": [
    "print(respuesta.text)"
   ]
  },
  {
   "cell_type": "code",
   "execution_count": 702,
   "metadata": {
    "scrolled": false
   },
   "outputs": [],
   "source": [
    "datos = respuesta.json()"
   ]
  },
  {
   "cell_type": "code",
   "execution_count": 703,
   "metadata": {},
   "outputs": [
    {
     "name": "stdout",
     "output_type": "stream",
     "text": [
      "I-XXII.Todas las causas. Ambos sexos. Todas las edades. Total Nacional. Personas. \n",
      "1980-01-01 289344.0\n",
      "1981-01-01 293386.0\n",
      "1982-01-01 286655.0\n",
      "1983-01-01 302569.0\n",
      "1984-01-01 299409.0\n",
      "1985-01-01 312532.0\n",
      "1986-01-01 310413.0\n",
      "1987-01-01 310073.0\n",
      "1988-01-01 319437.0\n",
      "1989-01-01 324796.0\n",
      "1990-01-01 333142.0\n",
      "1991-01-01 337691.0\n",
      "1992-01-01 331515.0\n",
      "1993-01-01 339661.0\n",
      "1994-01-01 338242.0\n",
      "1995-01-01 346227.0\n",
      "1996-01-01 351449.0\n",
      "1997-01-01 349521.0\n",
      "1998-01-01 360511.0\n",
      "1999-01-01 371102.0\n",
      "2000-01-01 360391.0\n",
      "2001-01-01 360131.0\n",
      "2002-01-01 368618.0\n",
      "2003-01-01 384828.0\n",
      "2004-01-01 371934.0\n",
      "2005-01-01 387355.0\n",
      "2006-01-01 371478.0\n",
      "2007-01-01 385361.0\n",
      "2008-01-01 386324.0\n",
      "2009-01-01 384933.0\n",
      "2010-01-01 382047.0\n",
      "2011-01-01 387911.0\n",
      "2012-01-01 402950.0\n",
      "2013-01-01 390419.0\n",
      "2014-01-01 395830.0\n",
      "2015-01-01 422568.0\n",
      "2016-01-01 410611.0\n",
      "2017-01-01 424523.0\n",
      "2018-01-01 427721.0\n"
     ]
    }
   ],
   "source": [
    "import datetime\n",
    "          \n",
    "print(datos['Nombre'])\n",
    "for x in datos['Data']:\n",
    "    date = datetime.date.fromtimestamp(\n",
    "                      x['Fecha'] // 1000)\n",
    "    deaths = x['Valor']\n",
    "    print(date, deaths)"
   ]
  },
  {
   "cell_type": "code",
   "execution_count": 670,
   "metadata": {},
   "outputs": [],
   "source": [
    "url_new = 'https://servicios.ine.es/wstempus/js/es/DATOS_TABLA//t15/p417/a2018/l0/01004.px?tip=AMtv=causaslistareducida:053061ixenfermedadesdelsistemacirculatorio&tv=causaslistareducida:053enfermedadescardiacasreumaticascronicas&tv=causaslistareducida:054enfermedadeshipertensivas&tv=causaslistareducida:055infartoagudodemiocardio&tv=causaslistareducida:056otrasenfermedadesisquemicasdelcorazon&tv=causaslistareducida:057insuficienciacardiaca&tv=causaslistareducida:058otrasenfermedadesdelcorazon&tv=sexo:ambossexos&tv=edad:todaslasedades'"
   ]
  },
  {
   "cell_type": "code",
   "execution_count": 679,
   "metadata": {},
   "outputs": [],
   "source": [
    "response_new = requests.get(url_new)"
   ]
  },
  {
   "cell_type": "code",
   "execution_count": 680,
   "metadata": {},
   "outputs": [
    {
     "data": {
      "text/plain": [
       "200"
      ]
     },
     "execution_count": 680,
     "metadata": {},
     "output_type": "execute_result"
    }
   ],
   "source": [
    "response_new.status_code"
   ]
  },
  {
   "cell_type": "code",
   "execution_count": 681,
   "metadata": {},
   "outputs": [
    {
     "data": {
      "text/plain": [
       "[{'Nombre': '053 Enfermedades cardíacas reumáticas crónicas, Ambos sexos, Todas las edades',\n",
       "  'Data': [{'Valor': 3.323, 'Secreto': False}]},\n",
       " {'Nombre': '054 Enfermedades hipertensivas, Ambos sexos, Todas las edades',\n",
       "  'Data': [{'Valor': 26.742, 'Secreto': False}]},\n",
       " {'Nombre': '055 Infarto agudo de miocardio, Ambos sexos, Todas las edades',\n",
       "  'Data': [{'Valor': 31.075, 'Secreto': False}]},\n",
       " {'Nombre': '056 Otras enfermedades isquémicas del corazón, Ambos sexos, Todas las edades',\n",
       "  'Data': [{'Valor': 35.59, 'Secreto': False}]},\n",
       " {'Nombre': '057 Insuficiencia cardíaca, Ambos sexos, Todas las edades',\n",
       "  'Data': [{'Valor': 40.964, 'Secreto': False}]},\n",
       " {'Nombre': '058 Otras enfermedades del corazón, Ambos sexos, Todas las edades',\n",
       "  'Data': [{'Valor': 52.214, 'Secreto': False}]}]"
      ]
     },
     "execution_count": 681,
     "metadata": {},
     "output_type": "execute_result"
    }
   ],
   "source": [
    "data_API = response_new.json()\n",
    "data_API"
   ]
  },
  {
   "cell_type": "code",
   "execution_count": 682,
   "metadata": {},
   "outputs": [
    {
     "data": {
      "text/plain": [
       "list"
      ]
     },
     "execution_count": 682,
     "metadata": {},
     "output_type": "execute_result"
    }
   ],
   "source": [
    "type(data_API)"
   ]
  },
  {
   "cell_type": "code",
   "execution_count": 683,
   "metadata": {},
   "outputs": [],
   "source": [
    "df = pd.DataFrame(data_API)"
   ]
  },
  {
   "cell_type": "code",
   "execution_count": 684,
   "metadata": {
    "scrolled": true
   },
   "outputs": [
    {
     "data": {
      "text/html": [
       "<div>\n",
       "<style scoped>\n",
       "    .dataframe tbody tr th:only-of-type {\n",
       "        vertical-align: middle;\n",
       "    }\n",
       "\n",
       "    .dataframe tbody tr th {\n",
       "        vertical-align: top;\n",
       "    }\n",
       "\n",
       "    .dataframe thead th {\n",
       "        text-align: right;\n",
       "    }\n",
       "</style>\n",
       "<table border=\"1\" class=\"dataframe\">\n",
       "  <thead>\n",
       "    <tr style=\"text-align: right;\">\n",
       "      <th></th>\n",
       "      <th>Nombre</th>\n",
       "      <th>Data</th>\n",
       "    </tr>\n",
       "  </thead>\n",
       "  <tbody>\n",
       "    <tr>\n",
       "      <th>0</th>\n",
       "      <td>053 Enfermedades cardíacas reumáticas crónicas...</td>\n",
       "      <td>[{'Valor': 3.323, 'Secreto': False}]</td>\n",
       "    </tr>\n",
       "    <tr>\n",
       "      <th>1</th>\n",
       "      <td>054 Enfermedades hipertensivas, Ambos sexos, T...</td>\n",
       "      <td>[{'Valor': 26.742, 'Secreto': False}]</td>\n",
       "    </tr>\n",
       "    <tr>\n",
       "      <th>2</th>\n",
       "      <td>055 Infarto agudo de miocardio, Ambos sexos, T...</td>\n",
       "      <td>[{'Valor': 31.075, 'Secreto': False}]</td>\n",
       "    </tr>\n",
       "    <tr>\n",
       "      <th>3</th>\n",
       "      <td>056 Otras enfermedades isquémicas del corazón,...</td>\n",
       "      <td>[{'Valor': 35.59, 'Secreto': False}]</td>\n",
       "    </tr>\n",
       "    <tr>\n",
       "      <th>4</th>\n",
       "      <td>057 Insuficiencia cardíaca, Ambos sexos, Todas...</td>\n",
       "      <td>[{'Valor': 40.964, 'Secreto': False}]</td>\n",
       "    </tr>\n",
       "  </tbody>\n",
       "</table>\n",
       "</div>"
      ],
      "text/plain": [
       "                                              Nombre  \\\n",
       "0  053 Enfermedades cardíacas reumáticas crónicas...   \n",
       "1  054 Enfermedades hipertensivas, Ambos sexos, T...   \n",
       "2  055 Infarto agudo de miocardio, Ambos sexos, T...   \n",
       "3  056 Otras enfermedades isquémicas del corazón,...   \n",
       "4  057 Insuficiencia cardíaca, Ambos sexos, Todas...   \n",
       "\n",
       "                                    Data  \n",
       "0   [{'Valor': 3.323, 'Secreto': False}]  \n",
       "1  [{'Valor': 26.742, 'Secreto': False}]  \n",
       "2  [{'Valor': 31.075, 'Secreto': False}]  \n",
       "3   [{'Valor': 35.59, 'Secreto': False}]  \n",
       "4  [{'Valor': 40.964, 'Secreto': False}]  "
      ]
     },
     "execution_count": 684,
     "metadata": {},
     "output_type": "execute_result"
    }
   ],
   "source": [
    "df.head()"
   ]
  },
  {
   "cell_type": "code",
   "execution_count": 704,
   "metadata": {},
   "outputs": [
    {
     "data": {
      "text/plain": [
       "[{'Nombre': '053 Enfermedades cardíacas reumáticas crónicas, Ambos sexos, Todas las edades',\n",
       "  'Data': [{'Valor': 3.323, 'Secreto': False}]},\n",
       " {'Nombre': '054 Enfermedades hipertensivas, Ambos sexos, Todas las edades',\n",
       "  'Data': [{'Valor': 26.742, 'Secreto': False}]},\n",
       " {'Nombre': '055 Infarto agudo de miocardio, Ambos sexos, Todas las edades',\n",
       "  'Data': [{'Valor': 31.075, 'Secreto': False}]},\n",
       " {'Nombre': '056 Otras enfermedades isquémicas del corazón, Ambos sexos, Todas las edades',\n",
       "  'Data': [{'Valor': 35.59, 'Secreto': False}]},\n",
       " {'Nombre': '057 Insuficiencia cardíaca, Ambos sexos, Todas las edades',\n",
       "  'Data': [{'Valor': 40.964, 'Secreto': False}]},\n",
       " {'Nombre': '058 Otras enfermedades del corazón, Ambos sexos, Todas las edades',\n",
       "  'Data': [{'Valor': 52.214, 'Secreto': False}]}]"
      ]
     },
     "execution_count": 704,
     "metadata": {},
     "output_type": "execute_result"
    }
   ],
   "source": [
    "df.to_dict('records')"
   ]
  },
  {
   "cell_type": "code",
   "execution_count": 705,
   "metadata": {},
   "outputs": [
    {
     "data": {
      "text/plain": [
       "OrderedDict([('Nombre',\n",
       "              OrderedDict([(0,\n",
       "                            '053 Enfermedades cardíacas reumáticas crónicas, Ambos sexos, Todas las edades'),\n",
       "                           (1,\n",
       "                            '054 Enfermedades hipertensivas, Ambos sexos, Todas las edades'),\n",
       "                           (2,\n",
       "                            '055 Infarto agudo de miocardio, Ambos sexos, Todas las edades'),\n",
       "                           (3,\n",
       "                            '056 Otras enfermedades isquémicas del corazón, Ambos sexos, Todas las edades'),\n",
       "                           (4,\n",
       "                            '057 Insuficiencia cardíaca, Ambos sexos, Todas las edades'),\n",
       "                           (5,\n",
       "                            '058 Otras enfermedades del corazón, Ambos sexos, Todas las edades')])),\n",
       "             ('Data',\n",
       "              OrderedDict([(0, [{'Valor': 3.323, 'Secreto': False}]),\n",
       "                           (1, [{'Valor': 26.742, 'Secreto': False}]),\n",
       "                           (2, [{'Valor': 31.075, 'Secreto': False}]),\n",
       "                           (3, [{'Valor': 35.59, 'Secreto': False}]),\n",
       "                           (4, [{'Valor': 40.964, 'Secreto': False}]),\n",
       "                           (5, [{'Valor': 52.214, 'Secreto': False}])]))])"
      ]
     },
     "execution_count": 705,
     "metadata": {},
     "output_type": "execute_result"
    }
   ],
   "source": [
    "from collections import OrderedDict, defaultdict\n",
    "df.to_dict(into=OrderedDict)"
   ]
  },
  {
   "cell_type": "code",
   "execution_count": 707,
   "metadata": {
    "scrolled": true
   },
   "outputs": [
    {
     "data": {
      "text/plain": [
       "{'Enfermedades cardíacas reumáticas crónicas, Ambos sexos, Todas las edades': 3.323,\n",
       " 'Enfermedades hipertensivas, Ambos sexos, Todas las edades': 26.742,\n",
       " 'Infarto agudo de miocardio, Ambos sexos, Todas las edades': 31.075,\n",
       " 'Otras enfermedades isquémicas del corazón, Ambos sexos, Todas las edades': 35.59,\n",
       " 'Insuficiencia cardíaca, Ambos sexos, Todas las edades': 40.964,\n",
       " 'Otras enfermedades del corazón, Ambos sexos, Todas las edades': 52.214}"
      ]
     },
     "execution_count": 707,
     "metadata": {},
     "output_type": "execute_result"
    }
   ],
   "source": [
    "new_list = []\n",
    "for i in data_API:\n",
    "    new_list.append(list(i.values()))\n",
    "Clean_Data = {\n",
    "}\n",
    "for j, k in new_list:\n",
    "    nombre = j[4:]\n",
    "    valor = k[0]['Valor']\n",
    "    Clean_Data[nombre] = valor\n",
    "Clean_Data"
   ]
  },
  {
   "cell_type": "code",
   "execution_count": 742,
   "metadata": {},
   "outputs": [
    {
     "name": "stdout",
     "output_type": "stream",
     "text": [
      "keys :  ['Enfermedades cardíacas reumáticas crónicas, Ambos sexos, Todas las edades', 'Enfermedades hipertensivas, Ambos sexos, Todas las edades', 'Infarto agudo de miocardio, Ambos sexos, Todas las edades', 'Otras enfermedades isquémicas del corazón, Ambos sexos, Todas las edades', 'Insuficiencia cardíaca, Ambos sexos, Todas las edades', 'Otras enfermedades del corazón, Ambos sexos, Todas las edades']\n",
      "values :  [3.323, 26.742, 31.075, 35.59, 40.964, 52.214]\n"
     ]
    },
    {
     "data": {
      "text/plain": [
       "{'Enfermedades cardíacas reumáticas crónicas, Ambos sexos, Todas las edades': 3.323,\n",
       " 'Enfermedades hipertensivas, Ambos sexos, Todas las edades': 26.742,\n",
       " 'Infarto agudo de miocardio, Ambos sexos, Todas las edades': 31.075,\n",
       " 'Otras enfermedades isquémicas del corazón, Ambos sexos, Todas las edades': 35.59,\n",
       " 'Insuficiencia cardíaca, Ambos sexos, Todas las edades': 40.964,\n",
       " 'Otras enfermedades del corazón, Ambos sexos, Todas las edades': 52.214}"
      ]
     },
     "execution_count": 742,
     "metadata": {},
     "output_type": "execute_result"
    }
   ],
   "source": [
    "# split dictionary into keys and values \n",
    "keys = [] \n",
    "values = [] \n",
    "items = Clean_Data.items() \n",
    "for item in items: \n",
    "    keys.append(item[0]), values.append(item[1])\n",
    "print (\"keys : \", str(keys)) \n",
    "print (\"values : \", str(values))\n",
    "Clean_Data"
   ]
  },
  {
   "cell_type": "code",
   "execution_count": 765,
   "metadata": {},
   "outputs": [
    {
     "data": {
      "text/html": [
       "<div>\n",
       "<style scoped>\n",
       "    .dataframe tbody tr th:only-of-type {\n",
       "        vertical-align: middle;\n",
       "    }\n",
       "\n",
       "    .dataframe tbody tr th {\n",
       "        vertical-align: top;\n",
       "    }\n",
       "\n",
       "    .dataframe thead th {\n",
       "        text-align: right;\n",
       "    }\n",
       "</style>\n",
       "<table border=\"1\" class=\"dataframe\">\n",
       "  <thead>\n",
       "    <tr style=\"text-align: right;\">\n",
       "      <th></th>\n",
       "      <th>Illness</th>\n",
       "      <th>Data</th>\n",
       "    </tr>\n",
       "  </thead>\n",
       "  <tbody>\n",
       "    <tr>\n",
       "      <th>0</th>\n",
       "      <td>Enfermedades cardíacas reumáticas crónicas, Am...</td>\n",
       "      <td>3.323</td>\n",
       "    </tr>\n",
       "    <tr>\n",
       "      <th>1</th>\n",
       "      <td>Enfermedades hipertensivas, Ambos sexos, Todas...</td>\n",
       "      <td>26.742</td>\n",
       "    </tr>\n",
       "    <tr>\n",
       "      <th>2</th>\n",
       "      <td>Infarto agudo de miocardio, Ambos sexos, Todas...</td>\n",
       "      <td>31.075</td>\n",
       "    </tr>\n",
       "    <tr>\n",
       "      <th>3</th>\n",
       "      <td>Otras enfermedades isquémicas del corazón, Amb...</td>\n",
       "      <td>35.590</td>\n",
       "    </tr>\n",
       "    <tr>\n",
       "      <th>4</th>\n",
       "      <td>Insuficiencia cardíaca, Ambos sexos, Todas las...</td>\n",
       "      <td>40.964</td>\n",
       "    </tr>\n",
       "    <tr>\n",
       "      <th>5</th>\n",
       "      <td>Otras enfermedades del corazón, Ambos sexos, T...</td>\n",
       "      <td>52.214</td>\n",
       "    </tr>\n",
       "  </tbody>\n",
       "</table>\n",
       "</div>"
      ],
      "text/plain": [
       "                                             Illness    Data\n",
       "0  Enfermedades cardíacas reumáticas crónicas, Am...   3.323\n",
       "1  Enfermedades hipertensivas, Ambos sexos, Todas...  26.742\n",
       "2  Infarto agudo de miocardio, Ambos sexos, Todas...  31.075\n",
       "3  Otras enfermedades isquémicas del corazón, Amb...  35.590\n",
       "4  Insuficiencia cardíaca, Ambos sexos, Todas las...  40.964\n",
       "5  Otras enfermedades del corazón, Ambos sexos, T...  52.214"
      ]
     },
     "execution_count": 765,
     "metadata": {},
     "output_type": "execute_result"
    }
   ],
   "source": [
    "data = {'col_1': keys, 'col_2': values}\n",
    "data2 = pd.DataFrame.from_dict(data)\n",
    "data2.rename(columns={'col_1': 'Illness', 'col_2': 'Data'})"
   ]
  },
  {
   "cell_type": "markdown",
   "metadata": {},
   "source": [
    "# Web Scraping"
   ]
  },
  {
   "cell_type": "code",
   "execution_count": 645,
   "metadata": {},
   "outputs": [],
   "source": [
    "url = 'https://public.tableau.com/views/CAUSASDEMUERTEactualizacin2018/Dashboard1?:showVizHome=no&:embed=true'"
   ]
  },
  {
   "cell_type": "code",
   "execution_count": 386,
   "metadata": {},
   "outputs": [],
   "source": [
    "content = requests.get(url)"
   ]
  },
  {
   "cell_type": "code",
   "execution_count": 387,
   "metadata": {},
   "outputs": [
    {
     "name": "stdout",
     "output_type": "stream",
     "text": [
      "<Response [200]>\n"
     ]
    }
   ],
   "source": [
    "soup = BeautifulSoup(content.text, 'html.parser')\n",
    "print (content)"
   ]
  },
  {
   "cell_type": "code",
   "execution_count": 706,
   "metadata": {},
   "outputs": [],
   "source": [
    "data_graph = soup.find_all(\"div\", class_= \"tab-textRegion-boundary\")"
   ]
  }
 ],
 "metadata": {
  "kernelspec": {
   "display_name": "Python 3",
   "language": "python",
   "name": "python3"
  },
  "language_info": {
   "codemirror_mode": {
    "name": "ipython",
    "version": 3
   },
   "file_extension": ".py",
   "mimetype": "text/x-python",
   "name": "python",
   "nbconvert_exporter": "python",
   "pygments_lexer": "ipython3",
   "version": "3.8.6"
  }
 },
 "nbformat": 4,
 "nbformat_minor": 4
}
